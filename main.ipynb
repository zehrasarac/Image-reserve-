{
 "cells": [
  {
   "cell_type": "code",
   "execution_count": 1,
   "metadata": {},
   "outputs": [],
   "source": [
    "from PIL import ImageTk, Image\n",
    "import cv2\n",
    "from matplotlib import pyplot as plt\n",
    "import numpy as np\n"
   ]
  },
  {
   "cell_type": "code",
   "execution_count": 2,
   "metadata": {},
   "outputs": [],
   "source": [
    "#width\n",
    "basewidth = 400\n",
    "img = Image.open(\"ist.jpeg\")\n",
    "wpercent = (basewidth/float(img.size[0]))\n",
    "hsize = int((float(img.size[1])*float(wpercent)))\n",
    "img = img.resize((basewidth,hsize),Image.ANTIALIAS)\n",
    "img.save(\"reserved_image.jpeg\")\n"
   ]
  },
  {
   "cell_type": "code",
   "execution_count": 3,
   "metadata": {},
   "outputs": [],
   "source": [
    "#height\n",
    "baseheight = 200\n",
    "img = Image.open(\"ist.jpeg\")\n",
    "hpercent = (baseheight/float(img.size[1]))\n",
    "wsize = int((float(img.size[0])*float(hpercent)))\n",
    "img = img.resize((wsize,baseheight),Image.ANTIALIAS)\n",
    "img.save(\"reserved_image.jpeg\")\n"
   ]
  },
  {
   "cell_type": "code",
   "execution_count": 16,
   "metadata": {},
   "outputs": [],
   "source": [
    "from tkinter import Tk, Canvas\n",
    "\n",
    "from PIL import ImageTk, Image\n",
    "\n",
    "from tkinter import *\n",
    "from tkinter import filedialog\n",
    "import tkinter.font as tkFont\n",
    "import PIL.Image"
   ]
  },
  {
   "cell_type": "code",
   "execution_count": 43,
   "metadata": {},
   "outputs": [],
   "source": [
    "master = Tk()\n",
    "\n",
    "def select():\n",
    "    global image_file\n",
    "    image_file=filedialog.askopenfilename(initialdir='/',title='Select')\n",
    "    select.center(C)\n",
    "\n",
    "def image():\n",
    "    img = PIL.Image.open('/Users/zerry/Desktop/SystemPro/reserved_image.jpeg')\n",
    "    photo = ImageTk.PhotoImage(img)\n",
    "\n",
    "def message():\n",
    "    print(\"basarili\")\n",
    "\n",
    "master.title('Image Resize')\n",
    "master.geometry('700x650')\n",
    "frame_govde = Frame(master,bg='light blue')\n",
    "frame_govde.place(relx=0.1,rely=0.1,relwidth=0.8,relheight=0.80)\n",
    "\n",
    "B = Button(frame_govde,bg='light blue',text='Select Image',command=select)\n",
    "B.pack(padx=10,pady=10,side=BOTTOM)\n",
    "\n",
    "C = Frame(frame_govde,bg='white',height=500,width=400)\n",
    "C.pack(padx=70,pady=70,side=BOTTOM)\n",
    "\n",
    "\n",
    "\n",
    "master.mainloop()"
   ]
  },
  {
   "cell_type": "code",
   "execution_count": null,
   "metadata": {},
   "outputs": [],
   "source": []
  },
  {
   "cell_type": "code",
   "execution_count": null,
   "metadata": {},
   "outputs": [],
   "source": []
  }
 ],
 "metadata": {
  "interpreter": {
   "hash": "aee8b7b246df8f9039afb4144a1f6fd8d2ca17a180786b69acc140d282b71a49"
  },
  "kernelspec": {
   "display_name": "Python 3.9.10 64-bit",
   "language": "python",
   "name": "python3"
  },
  "language_info": {
   "codemirror_mode": {
    "name": "ipython",
    "version": 3
   },
   "file_extension": ".py",
   "mimetype": "text/x-python",
   "name": "python",
   "nbconvert_exporter": "python",
   "pygments_lexer": "ipython3",
   "version": "3.9.10"
  },
  "orig_nbformat": 4
 },
 "nbformat": 4,
 "nbformat_minor": 2
}
